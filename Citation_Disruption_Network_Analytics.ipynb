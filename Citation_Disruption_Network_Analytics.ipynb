{
 "cells": [
  {
   "cell_type": "markdown",
   "id": "81b30393",
   "metadata": {},
   "source": [
    "# Citation Network Disruption Analysis"
   ]
  },
  {
   "cell_type": "markdown",
   "id": "458232df",
   "metadata": {},
   "source": [
    "**Project goals**\n",
    "- Apply network analytics on a real citation dataset\n",
    "- Compute common metrics (degree, betweenness, PageRank)\n",
    "- Reproduce disruption score from *Uzzi et al., 2013*\n",
    "- Visualize results and store outputs"
   ]
  },
  {
   "cell_type": "code",
   "execution_count": 28,
   "id": "d87771f5",
   "metadata": {},
   "outputs": [],
   "source": [
    "# 1. (optional) install dependencies\n",
    "# !pip install networkx pandas matplotlib requests tqdm"
   ]
  },
  {
   "cell_type": "code",
   "execution_count": 29,
   "id": "7644f235",
   "metadata": {},
   "outputs": [],
   "source": [
    "# 2. imports\n",
    "import os, requests, tarfile, io, json, math\n",
    "import pandas as pd\n",
    "import networkx as nx\n",
    "import matplotlib.pyplot as plt"
   ]
  },
  {
   "cell_type": "code",
   "execution_count": 30,
   "id": "f727fa39",
   "metadata": {},
   "outputs": [],
   "source": [
    "# 3. default plot style for readability\n",
    "plt.rcParams.update({'figure.dpi': 120})"
   ]
  },
  {
   "cell_type": "code",
   "execution_count": 31,
   "id": "50e43428",
   "metadata": {},
   "outputs": [],
   "source": [
    "# 4. dataset URL and local paths\n",
    "URL = 'https://linqs-data.soe.ucsc.edu/public/lbc/cora.tgz'\n",
    "DATA_DIR = 'cora'\n",
    "EDGE_FILE = os.path.join(DATA_DIR, 'cora.cites')"
   ]
  },
  {
   "cell_type": "code",
   "execution_count": 32,
   "id": "24dc7413",
   "metadata": {},
   "outputs": [
    {
     "name": "stdout",
     "output_type": "stream",
     "text": [
      "Cora dataset already exists.\n"
     ]
    }
   ],
   "source": [
    "# 5. download dataset if not present\n",
    "if not os.path.exists(DATA_DIR):\n",
    "    print('Downloading Cora dataset…')\n",
    "    r = requests.get(URL)\n",
    "    tar = tarfile.open(fileobj=io.BytesIO(r.content), mode='r:gz')\n",
    "    tar.extractall()\n",
    "    tar.close()\n",
    "    print('Download complete.')\n",
    "else:\n",
    "    print('Cora dataset already exists.')"
   ]
  },
  {
   "cell_type": "code",
   "execution_count": 33,
   "id": "d16a148c",
   "metadata": {},
   "outputs": [],
   "source": [
    "# 6. quick file check\n",
    "assert os.path.exists(EDGE_FILE), 'Edge file missing!'"
   ]
  },
  {
   "cell_type": "code",
   "execution_count": 34,
   "id": "81f4368a",
   "metadata": {},
   "outputs": [
    {
     "name": "stdout",
     "output_type": "stream",
     "text": [
      "Edges shape: (5429, 2)\n"
     ]
    },
    {
     "data": {
      "text/html": [
       "<div>\n",
       "<style scoped>\n",
       "    .dataframe tbody tr th:only-of-type {\n",
       "        vertical-align: middle;\n",
       "    }\n",
       "\n",
       "    .dataframe tbody tr th {\n",
       "        vertical-align: top;\n",
       "    }\n",
       "\n",
       "    .dataframe thead th {\n",
       "        text-align: right;\n",
       "    }\n",
       "</style>\n",
       "<table border=\"1\" class=\"dataframe\">\n",
       "  <thead>\n",
       "    <tr style=\"text-align: right;\">\n",
       "      <th></th>\n",
       "      <th>source</th>\n",
       "      <th>target</th>\n",
       "    </tr>\n",
       "  </thead>\n",
       "  <tbody>\n",
       "    <tr>\n",
       "      <th>0</th>\n",
       "      <td>35</td>\n",
       "      <td>1033</td>\n",
       "    </tr>\n",
       "    <tr>\n",
       "      <th>1</th>\n",
       "      <td>35</td>\n",
       "      <td>103482</td>\n",
       "    </tr>\n",
       "    <tr>\n",
       "      <th>2</th>\n",
       "      <td>35</td>\n",
       "      <td>103515</td>\n",
       "    </tr>\n",
       "    <tr>\n",
       "      <th>3</th>\n",
       "      <td>35</td>\n",
       "      <td>1050679</td>\n",
       "    </tr>\n",
       "    <tr>\n",
       "      <th>4</th>\n",
       "      <td>35</td>\n",
       "      <td>1103960</td>\n",
       "    </tr>\n",
       "  </tbody>\n",
       "</table>\n",
       "</div>"
      ],
      "text/plain": [
       "   source   target\n",
       "0      35     1033\n",
       "1      35   103482\n",
       "2      35   103515\n",
       "3      35  1050679\n",
       "4      35  1103960"
      ]
     },
     "execution_count": 34,
     "metadata": {},
     "output_type": "execute_result"
    }
   ],
   "source": [
    "# 7. load citation edges into DataFrame\n",
    "edges_df = pd.read_csv(EDGE_FILE, sep='\\t', names=['source', 'target'])\n",
    "print('Edges shape:', edges_df.shape)\n",
    "edges_df.head()"
   ]
  },
  {
   "cell_type": "code",
   "execution_count": 35,
   "id": "fa43a145",
   "metadata": {},
   "outputs": [
    {
     "name": "stdout",
     "output_type": "stream",
     "text": [
      "Unique papers: 2708\n"
     ]
    }
   ],
   "source": [
    "# 8. count unique papers\n",
    "nodes_unique = pd.unique(edges_df[['source','target']].values.ravel())\n",
    "print('Unique papers:', len(nodes_unique))"
   ]
  },
  {
   "cell_type": "code",
   "execution_count": 36,
   "id": "f0ca5017",
   "metadata": {},
   "outputs": [
    {
     "data": {
      "text/html": [
       "<div>\n",
       "<style scoped>\n",
       "    .dataframe tbody tr th:only-of-type {\n",
       "        vertical-align: middle;\n",
       "    }\n",
       "\n",
       "    .dataframe tbody tr th {\n",
       "        vertical-align: top;\n",
       "    }\n",
       "\n",
       "    .dataframe thead th {\n",
       "        text-align: right;\n",
       "    }\n",
       "</style>\n",
       "<table border=\"1\" class=\"dataframe\">\n",
       "  <thead>\n",
       "    <tr style=\"text-align: right;\">\n",
       "      <th></th>\n",
       "      <th>source</th>\n",
       "      <th>target</th>\n",
       "    </tr>\n",
       "  </thead>\n",
       "  <tbody>\n",
       "    <tr>\n",
       "      <th>763</th>\n",
       "      <td>3217</td>\n",
       "      <td>167670</td>\n",
       "    </tr>\n",
       "    <tr>\n",
       "      <th>116</th>\n",
       "      <td>35</td>\n",
       "      <td>574009</td>\n",
       "    </tr>\n",
       "    <tr>\n",
       "      <th>3434</th>\n",
       "      <td>62389</td>\n",
       "      <td>1107325</td>\n",
       "    </tr>\n",
       "    <tr>\n",
       "      <th>1731</th>\n",
       "      <td>10796</td>\n",
       "      <td>6217</td>\n",
       "    </tr>\n",
       "    <tr>\n",
       "      <th>5137</th>\n",
       "      <td>628667</td>\n",
       "      <td>628668</td>\n",
       "    </tr>\n",
       "  </tbody>\n",
       "</table>\n",
       "</div>"
      ],
      "text/plain": [
       "      source   target\n",
       "763     3217   167670\n",
       "116       35   574009\n",
       "3434   62389  1107325\n",
       "1731   10796     6217\n",
       "5137  628667   628668"
      ]
     },
     "execution_count": 36,
     "metadata": {},
     "output_type": "execute_result"
    }
   ],
   "source": [
    "# 9. random sample of edges\n",
    "edges_df.sample(5, random_state=1)"
   ]
  },
  {
   "cell_type": "code",
   "execution_count": 37,
   "id": "d49ae02a",
   "metadata": {},
   "outputs": [
    {
     "name": "stdout",
     "output_type": "stream",
     "text": [
      "DiGraph with 2708 nodes and 5429 edges\n"
     ]
    },
    {
     "name": "stderr",
     "output_type": "stream",
     "text": [
      "C:\\Users\\Gokul\\AppData\\Local\\Temp\\ipykernel_36100\\1441398021.py:4: DeprecationWarning: info is deprecated and will be removed in version 3.0.\n",
      "\n",
      "  print(nx.info(graph))\n"
     ]
    }
   ],
   "source": [
    "# 10. build directed graph\n",
    "graph = nx.DiGraph()\n",
    "graph.add_edges_from(edges_df.values)\n",
    "print(nx.info(graph))"
   ]
  },
  {
   "cell_type": "code",
   "execution_count": 38,
   "id": "d281c6c0",
   "metadata": {},
   "outputs": [
    {
     "name": "stdout",
     "output_type": "stream",
     "text": [
      "Is DAG? False\n"
     ]
    }
   ],
   "source": [
    "# 11. check if graph is acyclic (spoiler: it’s not)\n",
    "print('Is DAG?', nx.is_directed_acyclic_graph(graph))"
   ]
  },
  {
   "cell_type": "markdown",
   "id": "a7caeb7f",
   "metadata": {},
   "source": [
    "\n",
    "**In-degree Distribution Explanation**  \n",
    "This plot shows how frequently papers in the dataset are cited. The distribution is right-skewed: most papers receive very few citations, while a few are cited often.  \n",
    "This aligns with real-world scientific publishing trends where citation attention is unequally distributed.\n"
   ]
  },
  {
   "cell_type": "code",
   "execution_count": 39,
   "id": "b09e073d",
   "metadata": {},
   "outputs": [
    {
     "name": "stdout",
     "output_type": "stream",
     "text": [
      "Average in-degree: 2.00480059084195\n"
     ]
    }
   ],
   "source": [
    "# 12. compute in- and out-degree for quick inspection\n",
    "in_deg = dict(graph.in_degree())\n",
    "out_deg = dict(graph.out_degree())\n",
    "print('Average in-degree:', sum(in_deg.values())/len(in_deg))"
   ]
  },
  {
   "cell_type": "code",
   "execution_count": 40,
   "id": "2b44d2d0",
   "metadata": {},
   "outputs": [
    {
     "data": {
      "image/png": "[encoded data removed]",
      "text/plain": [
       "<Figure size 480x360 with 1 Axes>"
      ]
     },
     "metadata": {},
     "output_type": "display_data"
    }
   ],
   "source": [
    "# 13. plot in-degree distribution (log-log)\n",
    "plt.figure(figsize=(4,3))\n",
    "plt.hist(list(in_deg.values()), bins=50, log=True)\n",
    "plt.xlabel('In-degree')\n",
    "plt.ylabel('Frequency (log)')\n",
    "plt.title('In-degree distribution')\n",
    "plt.show()"
   ]
  },
  {
   "cell_type": "code",
   "execution_count": 41,
   "id": "285aa74e",
   "metadata": {},
   "outputs": [],
   "source": [
    "# 14. degree centrality\n",
    "deg_cent = nx.degree_centrality(graph)"
   ]
  },
  {
   "cell_type": "code",
   "execution_count": 42,
   "id": "c7e02fee",
   "metadata": {},
   "outputs": [],
   "source": [
    "# 15. betweenness centrality (sample 150 nodes for speed)\n",
    "bet_cent = nx.betweenness_centrality(graph, k=150, seed=42)"
   ]
  },
  {
   "cell_type": "code",
   "execution_count": 43,
   "id": "64300bb0",
   "metadata": {},
   "outputs": [],
   "source": [
    "# 16. PageRank\n",
    "pagerank = nx.pagerank(graph, alpha=0.85)"
   ]
  },
  {
   "cell_type": "code",
   "execution_count": 44,
   "id": "bf58fb9b",
   "metadata": {},
   "outputs": [
    {
     "data": {
      "text/html": [
       "<div>\n",
       "<style scoped>\n",
       "    .dataframe tbody tr th:only-of-type {\n",
       "        vertical-align: middle;\n",
       "    }\n",
       "\n",
       "    .dataframe tbody tr th {\n",
       "        vertical-align: top;\n",
       "    }\n",
       "\n",
       "    .dataframe thead th {\n",
       "        text-align: right;\n",
       "    }\n",
       "</style>\n",
       "<table border=\"1\" class=\"dataframe\">\n",
       "  <thead>\n",
       "    <tr style=\"text-align: right;\">\n",
       "      <th></th>\n",
       "      <th>paper</th>\n",
       "      <th>pagerank</th>\n",
       "    </tr>\n",
       "  </thead>\n",
       "  <tbody>\n",
       "    <tr>\n",
       "      <th>0</th>\n",
       "      <td>683355</td>\n",
       "      <td>0.004518</td>\n",
       "    </tr>\n",
       "    <tr>\n",
       "      <th>1</th>\n",
       "      <td>683404</td>\n",
       "      <td>0.004335</td>\n",
       "    </tr>\n",
       "    <tr>\n",
       "      <th>2</th>\n",
       "      <td>39210</td>\n",
       "      <td>0.003317</td>\n",
       "    </tr>\n",
       "    <tr>\n",
       "      <th>3</th>\n",
       "      <td>578347</td>\n",
       "      <td>0.003291</td>\n",
       "    </tr>\n",
       "    <tr>\n",
       "      <th>4</th>\n",
       "      <td>578309</td>\n",
       "      <td>0.003152</td>\n",
       "    </tr>\n",
       "  </tbody>\n",
       "</table>\n",
       "</div>"
      ],
      "text/plain": [
       "    paper  pagerank\n",
       "0  683355  0.004518\n",
       "1  683404  0.004335\n",
       "2   39210  0.003317\n",
       "3  578347  0.003291\n",
       "4  578309  0.003152"
      ]
     },
     "execution_count": 44,
     "metadata": {},
     "output_type": "execute_result"
    }
   ],
   "source": [
    "# 17. top 5 papers by PageRank\n",
    "pd.DataFrame(sorted(pagerank.items(), key=lambda x: x[1], reverse=True)[:5], columns=['paper','pagerank'])"
   ]
  },
  {
   "cell_type": "code",
   "execution_count": 45,
   "id": "bca42667",
   "metadata": {},
   "outputs": [],
   "source": [
    "# 18. define disruption score\n",
    "def disruption_score(g, node):\n",
    "    fwd = list(g.predecessors(node))\n",
    "    if not fwd:\n",
    "        return None\n",
    "    refs = set(g.successors(node))\n",
    "    linking = non_linking = 0\n",
    "    for citer in fwd:\n",
    "        if refs & set(g.successors(citer)):\n",
    "            linking += 1\n",
    "        else:\n",
    "            non_linking += 1\n",
    "    return (non_linking - linking) / len(fwd)\n"
   ]
  },
  {
   "cell_type": "code",
   "execution_count": 46,
   "id": "ddaa8dfc",
   "metadata": {},
   "outputs": [
    {
     "name": "stdout",
     "output_type": "stream",
     "text": [
      "Sample disruption: -1.0\n"
     ]
    }
   ],
   "source": [
    "# 19. test disruption on a random node\n",
    "import random\n",
    "sample_node = random.choice(list(graph.nodes()))\n",
    "print('Sample disruption:', disruption_score(graph, sample_node))"
   ]
  },
  {
   "cell_type": "code",
   "execution_count": 47,
   "id": "0c4162cd",
   "metadata": {},
   "outputs": [
    {
     "name": "stdout",
     "output_type": "stream",
     "text": [
      "Papers with disruption score: 2222\n"
     ]
    }
   ],
   "source": [
    "# 20. compute disruption for all nodes\n",
    "all_disruption = {n: disruption_score(graph, n) for n in graph.nodes() if disruption_score(graph, n) is not None}\n",
    "print('Papers with disruption score:', len(all_disruption))"
   ]
  },
  {
   "cell_type": "code",
   "execution_count": 48,
   "id": "b5837e63",
   "metadata": {},
   "outputs": [
    {
     "data": {
      "text/html": [
       "<div>\n",
       "<style scoped>\n",
       "    .dataframe tbody tr th:only-of-type {\n",
       "        vertical-align: middle;\n",
       "    }\n",
       "\n",
       "    .dataframe tbody tr th {\n",
       "        vertical-align: top;\n",
       "    }\n",
       "\n",
       "    .dataframe thead th {\n",
       "        text-align: right;\n",
       "    }\n",
       "</style>\n",
       "<table border=\"1\" class=\"dataframe\">\n",
       "  <thead>\n",
       "    <tr style=\"text-align: right;\">\n",
       "      <th></th>\n",
       "      <th>paper</th>\n",
       "      <th>disruption</th>\n",
       "      <th>deg_cent</th>\n",
       "      <th>bet_cent</th>\n",
       "      <th>pagerank</th>\n",
       "    </tr>\n",
       "  </thead>\n",
       "  <tbody>\n",
       "    <tr>\n",
       "      <th>0</th>\n",
       "      <td>35</td>\n",
       "      <td>-1.0</td>\n",
       "      <td>0.062431</td>\n",
       "      <td>0.000000</td>\n",
       "      <td>0.000261</td>\n",
       "    </tr>\n",
       "    <tr>\n",
       "      <th>1</th>\n",
       "      <td>1033</td>\n",
       "      <td>1.0</td>\n",
       "      <td>0.001847</td>\n",
       "      <td>0.000006</td>\n",
       "      <td>0.000238</td>\n",
       "    </tr>\n",
       "    <tr>\n",
       "      <th>2</th>\n",
       "      <td>103482</td>\n",
       "      <td>-1.0</td>\n",
       "      <td>0.002216</td>\n",
       "      <td>0.000000</td>\n",
       "      <td>0.000194</td>\n",
       "    </tr>\n",
       "    <tr>\n",
       "      <th>3</th>\n",
       "      <td>103515</td>\n",
       "      <td>0.0</td>\n",
       "      <td>0.004064</td>\n",
       "      <td>0.000000</td>\n",
       "      <td>0.000218</td>\n",
       "    </tr>\n",
       "    <tr>\n",
       "      <th>4</th>\n",
       "      <td>1050679</td>\n",
       "      <td>1.0</td>\n",
       "      <td>0.001478</td>\n",
       "      <td>0.000000</td>\n",
       "      <td>0.000281</td>\n",
       "    </tr>\n",
       "  </tbody>\n",
       "</table>\n",
       "</div>"
      ],
      "text/plain": [
       "     paper  disruption  deg_cent  bet_cent  pagerank\n",
       "0       35        -1.0  0.062431  0.000000  0.000261\n",
       "1     1033         1.0  0.001847  0.000006  0.000238\n",
       "2   103482        -1.0  0.002216  0.000000  0.000194\n",
       "3   103515         0.0  0.004064  0.000000  0.000218\n",
       "4  1050679         1.0  0.001478  0.000000  0.000281"
      ]
     },
     "execution_count": 48,
     "metadata": {},
     "output_type": "execute_result"
    }
   ],
   "source": [
    "# 21. assemble metrics DataFrame\n",
    "metrics = pd.DataFrame({\n",
    "    'paper': list(all_disruption.keys()),\n",
    "    'disruption': list(all_disruption.values()),\n",
    "    'deg_cent': [deg_cent[p] for p in all_disruption.keys()],\n",
    "    'bet_cent': [bet_cent.get(p, 0) for p in all_disruption.keys()],\n",
    "    'pagerank': [pagerank[p] for p in all_disruption.keys()]\n",
    "})\n",
    "metrics.head()"
   ]
  },
  {
   "cell_type": "code",
   "execution_count": 49,
   "id": "4af7b680",
   "metadata": {},
   "outputs": [
    {
     "data": {
      "text/html": [
       "<div>\n",
       "<style scoped>\n",
       "    .dataframe tbody tr th:only-of-type {\n",
       "        vertical-align: middle;\n",
       "    }\n",
       "\n",
       "    .dataframe tbody tr th {\n",
       "        vertical-align: top;\n",
       "    }\n",
       "\n",
       "    .dataframe thead th {\n",
       "        text-align: right;\n",
       "    }\n",
       "</style>\n",
       "<table border=\"1\" class=\"dataframe\">\n",
       "  <thead>\n",
       "    <tr style=\"text-align: right;\">\n",
       "      <th></th>\n",
       "      <th>disruption</th>\n",
       "      <th>deg_cent</th>\n",
       "      <th>pagerank</th>\n",
       "    </tr>\n",
       "  </thead>\n",
       "  <tbody>\n",
       "    <tr>\n",
       "      <th>count</th>\n",
       "      <td>2222.000000</td>\n",
       "      <td>2222.000000</td>\n",
       "      <td>2222.000000</td>\n",
       "    </tr>\n",
       "    <tr>\n",
       "      <th>mean</th>\n",
       "      <td>0.551500</td>\n",
       "      <td>0.001526</td>\n",
       "      <td>0.000408</td>\n",
       "    </tr>\n",
       "    <tr>\n",
       "      <th>std</th>\n",
       "      <td>0.729221</td>\n",
       "      <td>0.001978</td>\n",
       "      <td>0.000350</td>\n",
       "    </tr>\n",
       "    <tr>\n",
       "      <th>min</th>\n",
       "      <td>-1.000000</td>\n",
       "      <td>0.000369</td>\n",
       "      <td>0.000194</td>\n",
       "    </tr>\n",
       "    <tr>\n",
       "      <th>25%</th>\n",
       "      <td>0.000000</td>\n",
       "      <td>0.000739</td>\n",
       "      <td>0.000247</td>\n",
       "    </tr>\n",
       "    <tr>\n",
       "      <th>50%</th>\n",
       "      <td>1.000000</td>\n",
       "      <td>0.001108</td>\n",
       "      <td>0.000309</td>\n",
       "    </tr>\n",
       "    <tr>\n",
       "      <th>75%</th>\n",
       "      <td>1.000000</td>\n",
       "      <td>0.001847</td>\n",
       "      <td>0.000435</td>\n",
       "    </tr>\n",
       "    <tr>\n",
       "      <th>max</th>\n",
       "      <td>1.000000</td>\n",
       "      <td>0.062431</td>\n",
       "      <td>0.004518</td>\n",
       "    </tr>\n",
       "  </tbody>\n",
       "</table>\n",
       "</div>"
      ],
      "text/plain": [
       "        disruption     deg_cent     pagerank\n",
       "count  2222.000000  2222.000000  2222.000000\n",
       "mean      0.551500     0.001526     0.000408\n",
       "std       0.729221     0.001978     0.000350\n",
       "min      -1.000000     0.000369     0.000194\n",
       "25%       0.000000     0.000739     0.000247\n",
       "50%       1.000000     0.001108     0.000309\n",
       "75%       1.000000     0.001847     0.000435\n",
       "max       1.000000     0.062431     0.004518"
      ]
     },
     "execution_count": 49,
     "metadata": {},
     "output_type": "execute_result"
    }
   ],
   "source": [
    "# 22. quick descriptive statistics\n",
    "metrics[['disruption','deg_cent','pagerank']].describe()"
   ]
  },
  {
   "cell_type": "markdown",
   "id": "1a60b478",
   "metadata": {},
   "source": [
    "\n",
    "**Disruption Score Distribution**  \n",
    "Most papers have either a high positive or high negative disruption score.  \n",
    "- A score near +1 means the paper disrupted the field—it was cited, but its references were not.  \n",
    "- A score near -1 means it was developmental—its references continued to be cited.  \n",
    "This mirrors Uzzi et al.'s disruption index and provides insight into how groundbreaking or conservative a work is.\n"
   ]
  },
  {
   "cell_type": "code",
   "execution_count": 50,
   "id": "2ef37b6b",
   "metadata": {},
   "outputs": [
    {
     "data": {
      "image/png": "[encoded data removed]",
      "text/plain": [
       "<Figure size 480x360 with 1 Axes>"
      ]
     },
     "metadata": {},
     "output_type": "display_data"
    }
   ],
   "source": [
    "# 23. plot disruption histogram\n",
    "plt.figure(figsize=(4,3))\n",
    "plt.hist(metrics['disruption'], bins=30)\n",
    "plt.xlabel('Disruption score')\n",
    "plt.ylabel('Count')\n",
    "plt.title('Disruption distribution')\n",
    "plt.show()"
   ]
  },
  {
   "cell_type": "markdown",
   "id": "19d6096f",
   "metadata": {},
   "source": [
    "\n",
    "**Centrality vs. Disruption Scatter Plot**  \n",
    "This scatter plot investigates whether influential (high-centrality) papers tend to be more disruptive.  \n",
    "The low correlation suggests that being well-connected in the citation network does not necessarily mean a paper is disruptive.  \n",
    "Useful to understand knowledge flow versus novelty in academic research.\n"
   ]
  },
  {
   "cell_type": "code",
   "execution_count": 51,
   "id": "d732612a",
   "metadata": {},
   "outputs": [
    {
     "data": {
      "image/png": "[encoded data removed]",
      "text/plain": [
       "<Figure size 480x360 with 1 Axes>"
      ]
     },
     "metadata": {},
     "output_type": "display_data"
    }
   ],
   "source": [
    "# 24. scatter deg_cent vs disruption\n",
    "plt.figure(figsize=(4,3))\n",
    "plt.scatter(metrics['deg_cent'], metrics['disruption'], alpha=0.4)\n",
    "plt.xlabel('Degree centrality')\n",
    "plt.ylabel('Disruption')\n",
    "plt.title('Centrality vs Disruption')\n",
    "plt.show()"
   ]
  },
  {
   "cell_type": "markdown",
   "id": "409aad33",
   "metadata": {},
   "source": [
    "\n",
    "**Correlation Summary**  \n",
    "Here, we compute Pearson correlation coefficients:  \n",
    "- Degree Centrality vs Disruption ≈ -0.29  \n",
    "- PageRank vs Disruption ≈ 0.03  \n",
    "This suggests disruption is not strongly tied to structural importance, but may stem from novel content or timing.  \n",
    "This reinforces the idea that breakthrough research doesn’t always come from central nodes in a network.\n"
   ]
  },
  {
   "cell_type": "code",
   "execution_count": 52,
   "id": "75b8a32f",
   "metadata": {},
   "outputs": [
    {
     "name": "stdout",
     "output_type": "stream",
     "text": [
      "Corr(deg, disruption)= -0.291\n",
      "Corr(PageRank, disruption)= 0.032\n"
     ]
    }
   ],
   "source": [
    "# 25. correlation coefficients\n",
    "corr_deg = metrics['deg_cent'].corr(metrics['disruption'])\n",
    "corr_pr = metrics['pagerank'].corr(metrics['disruption'])\n",
    "print('Corr(deg, disruption)=', round(corr_deg,3))\n",
    "print('Corr(PageRank, disruption)=', round(corr_pr,3))"
   ]
  },
  {
   "cell_type": "code",
   "execution_count": 53,
   "id": "d0e8eda4",
   "metadata": {},
   "outputs": [
    {
     "name": "stdout",
     "output_type": "stream",
     "text": [
      "Saved metrics to cora_metrics.csv\n"
     ]
    }
   ],
   "source": [
    "# 26. save metrics for later exploration\n",
    "metrics.to_csv('cora_metrics.csv', index=False)\n",
    "print('Saved metrics to cora_metrics.csv')"
   ]
  },
  {
   "cell_type": "markdown",
   "id": "050d03f5",
   "metadata": {},
   "source": [
    "\n",
    "**Regression Analysis (OLS)**  \n",
    "We apply a simple linear regression to model disruption based on centrality.  \n",
    "The slope is slightly negative, consistent with earlier correlation results.  \n",
    "While not predictive on its own, this shows how to link graph metrics with measurable impact, which is valuable for bibliometric analysis.\n"
   ]
  },
  {
   "cell_type": "code",
   "execution_count": 54,
   "id": "31a7fa8b",
   "metadata": {},
   "outputs": [
    {
     "name": "stdout",
     "output_type": "stream",
     "text": [
      "Intercept, slope: [ 0.55150015 -0.21192063]\n"
     ]
    }
   ],
   "source": [
    "# 27. very simple OLS regression using numpy (no statsmodels)\n",
    "import numpy as np\n",
    "X = metrics['deg_cent'].values\n",
    "X = (X - X.mean())/X.std()\n",
    "X = np.vstack([np.ones_like(X), X]).T\n",
    "Y = metrics['disruption'].values\n",
    "beta = np.linalg.lstsq(X, Y, rcond=None)[0]\n",
    "print('Intercept, slope:', beta)"
   ]
  },
  {
   "cell_type": "markdown",
   "id": "5bf6a75f",
   "metadata": {},
   "source": [
    "### Closing notes\n",
    "- Disruption scores are highly polarized due to sparse forward citations.\n",
    "- Centrality and PageRank show weak association with disruption in this small dataset.\n",
    "- The code can be extended to larger datasets (e.g., Semantic Scholar) or augmented with node embeddings for deeper analysis."
   ]
  }
 ],
 "metadata": {
  "kernelspec": {
   "display_name": "Python 3 (ipykernel)",
   "language": "python",
   "name": "python3"
  },
  "language_info": {
   "codemirror_mode": {
    "name": "ipython",
    "version": 3
   },
   "file_extension": ".py",
   "mimetype": "text/x-python",
   "name": "python",
   "nbconvert_exporter": "python",
   "pygments_lexer": "ipython3",
   "version": "3.8.13"
  }
 },
 "nbformat": 4,
 "nbformat_minor": 5
}
